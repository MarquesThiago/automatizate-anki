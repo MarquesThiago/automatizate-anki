{
 "cells": [
  {
   "cell_type": "code",
   "execution_count": 1,
   "metadata": {},
   "outputs": [],
   "source": [
    "import pandas as pd\n",
    "from re import sub\n",
    "import os \n",
    "import connect\n",
    "from connect import add_embed\n",
    "from card_adjetivos import note_adjetivos\n",
    "from create_audio import generate_audio_gtts"
   ]
  },
  {
   "cell_type": "code",
   "execution_count": 2,
   "metadata": {},
   "outputs": [],
   "source": [
    "nome_do_arquivo = r'excels\\adjetivos_corrigido.xlsx'"
   ]
  },
  {
   "cell_type": "code",
   "execution_count": 3,
   "metadata": {},
   "outputs": [],
   "source": [
    "dados = pd.read_excel(\n",
    "    nome_do_arquivo\n",
    ")\n"
   ]
  },
  {
   "cell_type": "code",
   "execution_count": 4,
   "metadata": {},
   "outputs": [
    {
     "data": {
      "text/html": [
       "<div>\n",
       "<style scoped>\n",
       "    .dataframe tbody tr th:only-of-type {\n",
       "        vertical-align: middle;\n",
       "    }\n",
       "\n",
       "    .dataframe tbody tr th {\n",
       "        vertical-align: top;\n",
       "    }\n",
       "\n",
       "    .dataframe thead th {\n",
       "        text-align: right;\n",
       "    }\n",
       "</style>\n",
       "<table border=\"1\" class=\"dataframe\">\n",
       "  <thead>\n",
       "    <tr style=\"text-align: right;\">\n",
       "      <th></th>\n",
       "      <th>Name</th>\n",
       "      <th>Tradução</th>\n",
       "      <th>typo</th>\n",
       "      <th>Complement</th>\n",
       "      <th>frase</th>\n",
       "      <th>frase - tradução</th>\n",
       "      <th>Kanji</th>\n",
       "    </tr>\n",
       "  </thead>\n",
       "  <tbody>\n",
       "    <tr>\n",
       "      <th>0</th>\n",
       "      <td>ければ</td>\n",
       "      <td>Corresponde a ‘’Se‘’, impõe condição.</td>\n",
       "      <td>I-adjetivo</td>\n",
       "      <td>quando substituímos o い　por kereba temos um in...</td>\n",
       "      <td>たかければ、かいません|はたければ、まにあうでしょう</td>\n",
       "      <td>Se for caro, não comprarei|Se for rápido, prov...</td>\n",
       "      <td></td>\n",
       "    </tr>\n",
       "    <tr>\n",
       "      <th>1</th>\n",
       "      <td>なら</td>\n",
       "      <td>Corresponde ao “se”, impondo uma condição</td>\n",
       "      <td>na-adjetivo</td>\n",
       "      <td>quando adicionamos o な　por まら temos um indicar...</td>\n",
       "      <td>しずかなら、ここでべんきょうします　｜べんりなら、ここにすみたいです</td>\n",
       "      <td>Se estiver silencioso, estudarei aqui.｜　 Se fo...</td>\n",
       "      <td></td>\n",
       "    </tr>\n",
       "    <tr>\n",
       "      <th>2</th>\n",
       "      <td>くなければ</td>\n",
       "      <td>forma negativa da forma ければ</td>\n",
       "      <td>I-adjetivo</td>\n",
       "      <td></td>\n",
       "      <td>たかくなければ、かいます　｜　はやくなければ、まにあわない</td>\n",
       "      <td>Se não for caro, comprarei.　|　Se não for rápid...</td>\n",
       "      <td></td>\n",
       "    </tr>\n",
       "    <tr>\n",
       "      <th>3</th>\n",
       "      <td>でなければ</td>\n",
       "      <td>forma negativa do forma kereba para na-adjetivos</td>\n",
       "      <td>na-adjetivo</td>\n",
       "      <td></td>\n",
       "      <td>しずかでなければ、しゅうちゅうできません　|　べんりでなければ、ここにすみたくありません</td>\n",
       "      <td>Se não estiver silencioso, não consigo estudar...</td>\n",
       "      <td></td>\n",
       "    </tr>\n",
       "    <tr>\n",
       "      <th>4</th>\n",
       "      <td>さ</td>\n",
       "      <td>Essa forma é frequentemente usada para descrev...</td>\n",
       "      <td>I-adjetivo</td>\n",
       "      <td>Para descrever características ou qualidades: ...</td>\n",
       "      <td>このとうのたかさはさんびゃくメートルです　❚　かれのいそがしさをりかいしています</td>\n",
       "      <td>A altura desta torre é de 300 metros.　❚　Eu ent...</td>\n",
       "      <td></td>\n",
       "    </tr>\n",
       "  </tbody>\n",
       "</table>\n",
       "</div>"
      ],
      "text/plain": [
       "    Name                                           Tradução         typo  \\\n",
       "0    ければ              Corresponde a ‘’Se‘’, impõe condição.   I-adjetivo   \n",
       "1     なら          Corresponde ao “se”, impondo uma condição  na-adjetivo   \n",
       "2  くなければ                        forma negativa da forma ければ   I-adjetivo   \n",
       "3  でなければ   forma negativa do forma kereba para na-adjetivos  na-adjetivo   \n",
       "4      さ  Essa forma é frequentemente usada para descrev...   I-adjetivo   \n",
       "\n",
       "                                          Complement  \\\n",
       "0  quando substituímos o い　por kereba temos um in...   \n",
       "1  quando adicionamos o な　por まら temos um indicar...   \n",
       "2                                                      \n",
       "3                                                      \n",
       "4  Para descrever características ou qualidades: ...   \n",
       "\n",
       "                                          frase  \\\n",
       "0                    たかければ、かいません|はたければ、まにあうでしょう   \n",
       "1            しずかなら、ここでべんきょうします　｜べんりなら、ここにすみたいです   \n",
       "2                 たかくなければ、かいます　｜　はやくなければ、まにあわない   \n",
       "3  しずかでなければ、しゅうちゅうできません　|　べんりでなければ、ここにすみたくありません   \n",
       "4      このとうのたかさはさんびゃくメートルです　❚　かれのいそがしさをりかいしています   \n",
       "\n",
       "                                    frase - tradução Kanji  \n",
       "0  Se for caro, não comprarei|Se for rápido, prov...        \n",
       "1  Se estiver silencioso, estudarei aqui.｜　 Se fo...        \n",
       "2  Se não for caro, comprarei.　|　Se não for rápid...        \n",
       "3  Se não estiver silencioso, não consigo estudar...        \n",
       "4  A altura desta torre é de 300 metros.　❚　Eu ent...        "
      ]
     },
     "execution_count": 4,
     "metadata": {},
     "output_type": "execute_result"
    }
   ],
   "source": [
    "dados = dados.fillna(\" \")\n",
    "dados.head()"
   ]
  },
  {
   "cell_type": "code",
   "execution_count": 5,
   "metadata": {},
   "outputs": [],
   "source": [
    "rows = dados.shape[0]"
   ]
  },
  {
   "cell_type": "code",
   "execution_count": 6,
   "metadata": {},
   "outputs": [
    {
     "data": {
      "text/plain": [
       "Name                                                    気難しい　|　きむずかしい\n",
       "Tradução            difícil de agradar, temperamental, difícil de ...\n",
       "typo                                                       I-adjetivo\n",
       "Complement                                                           \n",
       "frase                                             彼女は気難しいです。 (きぐるしい) \n",
       "frase - tradução                                 Ela é temperamental.\n",
       "Kanji                                                                \n",
       "Name: 57, dtype: object"
      ]
     },
     "execution_count": 6,
     "metadata": {},
     "output_type": "execute_result"
    }
   ],
   "source": [
    "dados.iloc[57]"
   ]
  },
  {
   "cell_type": "code",
   "execution_count": 7,
   "metadata": {},
   "outputs": [
    {
     "data": {
      "text/plain": [
       "'c:\\\\Users\\\\thiag\\\\Documents\\\\cards__anki'"
      ]
     },
     "execution_count": 7,
     "metadata": {},
     "output_type": "execute_result"
    }
   ],
   "source": [
    "os.getcwd()"
   ]
  },
  {
   "cell_type": "code",
   "execution_count": 10,
   "metadata": {},
   "outputs": [
    {
     "ename": "SyntaxError",
     "evalue": "unterminated string literal (detected at line 3) (2711738436.py, line 3)",
     "output_type": "error",
     "traceback": [
      "\u001b[1;36m  Cell \u001b[1;32mIn[10], line 3\u001b[1;36m\u001b[0m\n\u001b[1;33m    origin_path: str = os.getcwd() + r\"\\audios\\adjetivos\\\"\u001b[0m\n\u001b[1;37m                                     ^\u001b[0m\n\u001b[1;31mSyntaxError\u001b[0m\u001b[1;31m:\u001b[0m unterminated string literal (detected at line 3)\n"
     ]
    }
   ],
   "source": [
    "for index in range(3):\n",
    "    path = os.getcwd() + \"\\\\audios\\\\adjetivos\\\\{}.mp3\"\n",
    "    origin_path: str = os.getcwd() + \"\\\\audios\\\\adjetivos\\\\\"\n",
    "    row = dados.iloc[index]\n",
    "    front = row[\"Name\"]\n",
    "    use = row[\"frase\"]\n",
    "    print(type(use))\n",
    "    text = sub(r\"\\(.*\\)|[\\||\\｜].*\", \"\", front)\n",
    "    \n",
    "    player_name = f\"audio_{index}\"\n",
    "    uso_name = f\"audio_{index}_uso\"\n",
    "    \n",
    "    generate_audio_gtts(\n",
    "        text, \n",
    "        path.format(player_name))\n",
    "    if use.strip() != \"\":\n",
    "        text = sub(r\"\\(.*\\)\", \"\", use)\n",
    "        generate_audio_gtts(\n",
    "            text,\n",
    "            path.format(uso_name)\n",
    "        )    \n",
    "        \n",
    "    note = note_adjetivos(\n",
    "        deck_name=\"Adjetivos - Japones\",\n",
    "        front=row[\"Name\"],\n",
    "        typing_=row[\"typo\"],\n",
    "        back=row[\"Tradução\"],\n",
    "        complemento=row[\"Tradução\"],\n",
    "        use=use,\n",
    "        traduction=row[\"frase - tradução\"],\n",
    "        kanji=row[\"Kanji\"],\n",
    "        audio=[\n",
    "            add_embed(origin_path,player_name, [\"player\"]),\n",
    "            add_embed(origin_path,uso_name, [\"uso-player\"])\n",
    "        ]\n",
    "    )\n",
    "    print(connect.add_note(note))"
   ]
  },
  {
   "cell_type": "code",
   "execution_count": 7,
   "metadata": {},
   "outputs": [
    {
     "data": {
      "text/plain": [
       "{'result': None,\n",
       " 'error': \"[Errno 13] Permission denied: 'c:/Users/thiag/Documents/cards__anki/audios/adjetivos'\"}"
      ]
     },
     "execution_count": 7,
     "metadata": {},
     "output_type": "execute_result"
    },
    {
     "ename": "",
     "evalue": "",
     "output_type": "error",
     "traceback": [
      "\u001b[1;31mThe Kernel crashed while executing code in the the current cell or a previous cell. Please review the code in the cell(s) to identify a possible cause of the failure. Click <a href='https://aka.ms/vscodeJupyterKernelCrash'>here</a> for more info. View Jupyter <a href='command:jupyter.viewOutput'>log</a> for further details."
     ]
    }
   ],
   "source": [
    "import requests\n",
    "url = \"http://127.0.0.1:8765\"\n",
    "payload = {\n",
    "    \"action\": \"storeMediaFile\",\n",
    "    \"version\": 6,\n",
    "    \"params\": {\n",
    "        \"filename\": \"_testtestaudio_0_uso.mp3\",\n",
    "        \"path\": \"c:/Users/thiag/Documents/cards__anki/audios/adjetivos\"\n",
    "    }\n",
    "}\n",
    "response = requests.post(url, json=payload)\n",
    "response.json()"
   ]
  }
 ],
 "metadata": {
  "kernelspec": {
   "display_name": "venv",
   "language": "python",
   "name": "python3"
  },
  "language_info": {
   "codemirror_mode": {
    "name": "ipython",
    "version": 3
   },
   "file_extension": ".py",
   "mimetype": "text/x-python",
   "name": "python",
   "nbconvert_exporter": "python",
   "pygments_lexer": "ipython3",
   "version": "3.12.0"
  }
 },
 "nbformat": 4,
 "nbformat_minor": 2
}
